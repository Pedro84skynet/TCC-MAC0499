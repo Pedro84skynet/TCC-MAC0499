{
 "cells": [
  {
   "cell_type": "code",
   "execution_count": 4,
   "id": "7f1e8de0",
   "metadata": {},
   "outputs": [],
   "source": [
    "import pandas as pd\n",
    "import numpy as np\n",
    "import random"
   ]
  },
  {
   "cell_type": "code",
   "execution_count": 5,
   "id": "f7fc3f89",
   "metadata": {},
   "outputs": [],
   "source": [
    "# Inputação por moda e probabilidade são inputações de dados de natureza,\n",
    "# classificatória que, ou simplemente preenchem o valor ausente pelo \n",
    "# valor de maior frequência ou por uma probabilidade baseada em \n",
    "# frequência\n",
    "\n",
    "def binary_search(sorted_list, x):\n",
    "    left = 0\n",
    "    right = len(sorted_list) - 1\n",
    "    while left <= right:\n",
    "        mid = (left + right) // 2\n",
    "        if sorted_list[mid] == x:\n",
    "            return mid\n",
    "        elif sorted_list[mid] < x:\n",
    "            left = mid + 1\n",
    "        else:\n",
    "            right = mid - 1\n",
    "    return left\n",
    "\n",
    "def generate_random_integers(a, b):\n",
    "    return random.randint(a, b) \n",
    "\n",
    "def get_most_frequently(df, column_name):\n",
    "    mode_counts = df[column_name].value_counts()\n",
    "    sorted_types = mode_counts.index.tolist()\n",
    "    return sorted_types[0]\n",
    "\n",
    "def get_random_by_probability(df, column_name):\n",
    "    mode_counts = df[column_name].value_counts()\n",
    "    sorted_types = mode_counts.index.tolist()\n",
    "    counts = mode_counts.values.tolist()\n",
    "    sum = counts[0]\n",
    "    for i in range(1, len(counts)):\n",
    "        counts[i] += sum\n",
    "        sum = counts[i]\n",
    "    selected = random.randint(0, counts[len(counts) -1]) \n",
    "    return sorted_types[binary_search(counts, selected)]"
   ]
  },
  {
   "cell_type": "code",
   "execution_count": 6,
   "id": "6db91793",
   "metadata": {},
   "outputs": [],
   "source": [
    "data = {'color': [\"red\", \"blue\", \"red\", \"red\", \"red\", \"red\", \"blue\", \"green\", \"green\"]}\n",
    "df = pd.DataFrame(data)"
   ]
  },
  {
   "cell_type": "code",
   "execution_count": 7,
   "id": "ab47dce5",
   "metadata": {},
   "outputs": [
    {
     "name": "stdout",
     "output_type": "stream",
     "text": [
      "most_frequently: red\n",
      "get_random_by_probability: red\n",
      "get_random_by_probability: blue\n",
      "get_random_by_probability: green\n",
      "get_random_by_probability: red\n",
      "get_random_by_probability: red\n",
      "get_random_by_probability: red\n",
      "get_random_by_probability: green\n",
      "get_random_by_probability: red\n",
      "get_random_by_probability: red\n",
      "get_random_by_probability: red\n"
     ]
    }
   ],
   "source": [
    "most_frequently = get_most_frequently(df, 'color')\n",
    "\n",
    "print(\"most_frequently:\", most_frequently)\n",
    "for i in range(10):\n",
    "    print(\"get_random_by_probability:\", get_random_by_probability(df, 'color'))"
   ]
  },
  {
   "cell_type": "code",
   "execution_count": null,
   "id": "bd14d7c0",
   "metadata": {},
   "outputs": [],
   "source": []
  }
 ],
 "metadata": {
  "kernelspec": {
   "display_name": "Python 3 (ipykernel)",
   "language": "python",
   "name": "python3"
  },
  "language_info": {
   "codemirror_mode": {
    "name": "ipython",
    "version": 3
   },
   "file_extension": ".py",
   "mimetype": "text/x-python",
   "name": "python",
   "nbconvert_exporter": "python",
   "pygments_lexer": "ipython3",
   "version": "3.10.6"
  }
 },
 "nbformat": 4,
 "nbformat_minor": 5
}
